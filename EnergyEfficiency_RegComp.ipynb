{
 "cells": [
  {
   "cell_type": "markdown",
   "id": "75ba621d",
   "metadata": {},
   "source": [
    "This study looked into assessing the heating load and cooling load requirements of buildings (that is, energy efficiency) as a function of building parameters"
   ]
  },
  {
   "cell_type": "code",
   "execution_count": 1,
   "id": "4b2a834b",
   "metadata": {},
   "outputs": [],
   "source": [
    "import pandas as pd\n",
    "from sklearn import linear_model #for linear reg\n",
    "from sklearn.svm import SVR #for support vector\n",
    "from sklearn.tree import DecisionTreeRegressor #for decision tree\n",
    "from sklearn.ensemble import RandomForestRegressor #for random forest\n",
    "from sklearn.metrics import mean_squared_error, r2_score\n",
    "from sklearn.model_selection import train_test_split"
   ]
  },
  {
   "cell_type": "code",
   "execution_count": 18,
   "id": "a231e7d5",
   "metadata": {},
   "outputs": [],
   "source": [
    "df = pd.read_csv(\"D:\\Data Science\\datasets\\Other datasets\\EnergyEff.csv\")"
   ]
  },
  {
   "cell_type": "code",
   "execution_count": 19,
   "id": "dfe7833d",
   "metadata": {},
   "outputs": [
    {
     "data": {
      "text/html": [
       "<div>\n",
       "<style scoped>\n",
       "    .dataframe tbody tr th:only-of-type {\n",
       "        vertical-align: middle;\n",
       "    }\n",
       "\n",
       "    .dataframe tbody tr th {\n",
       "        vertical-align: top;\n",
       "    }\n",
       "\n",
       "    .dataframe thead th {\n",
       "        text-align: right;\n",
       "    }\n",
       "</style>\n",
       "<table border=\"1\" class=\"dataframe\">\n",
       "  <thead>\n",
       "    <tr style=\"text-align: right;\">\n",
       "      <th></th>\n",
       "      <th>X1</th>\n",
       "      <th>X2</th>\n",
       "      <th>X3</th>\n",
       "      <th>X4</th>\n",
       "      <th>X5</th>\n",
       "      <th>X6</th>\n",
       "      <th>X7</th>\n",
       "      <th>X8</th>\n",
       "      <th>Y1</th>\n",
       "      <th>Y2</th>\n",
       "    </tr>\n",
       "  </thead>\n",
       "  <tbody>\n",
       "    <tr>\n",
       "      <th>0</th>\n",
       "      <td>0.98</td>\n",
       "      <td>514.5</td>\n",
       "      <td>294.0</td>\n",
       "      <td>110.25</td>\n",
       "      <td>7.0</td>\n",
       "      <td>2</td>\n",
       "      <td>0.0</td>\n",
       "      <td>0</td>\n",
       "      <td>15.55</td>\n",
       "      <td>21.33</td>\n",
       "    </tr>\n",
       "    <tr>\n",
       "      <th>1</th>\n",
       "      <td>0.98</td>\n",
       "      <td>514.5</td>\n",
       "      <td>294.0</td>\n",
       "      <td>110.25</td>\n",
       "      <td>7.0</td>\n",
       "      <td>3</td>\n",
       "      <td>0.0</td>\n",
       "      <td>0</td>\n",
       "      <td>15.55</td>\n",
       "      <td>21.33</td>\n",
       "    </tr>\n",
       "    <tr>\n",
       "      <th>2</th>\n",
       "      <td>0.98</td>\n",
       "      <td>514.5</td>\n",
       "      <td>294.0</td>\n",
       "      <td>110.25</td>\n",
       "      <td>7.0</td>\n",
       "      <td>4</td>\n",
       "      <td>0.0</td>\n",
       "      <td>0</td>\n",
       "      <td>15.55</td>\n",
       "      <td>21.33</td>\n",
       "    </tr>\n",
       "    <tr>\n",
       "      <th>3</th>\n",
       "      <td>0.98</td>\n",
       "      <td>514.5</td>\n",
       "      <td>294.0</td>\n",
       "      <td>110.25</td>\n",
       "      <td>7.0</td>\n",
       "      <td>5</td>\n",
       "      <td>0.0</td>\n",
       "      <td>0</td>\n",
       "      <td>15.55</td>\n",
       "      <td>21.33</td>\n",
       "    </tr>\n",
       "    <tr>\n",
       "      <th>4</th>\n",
       "      <td>0.90</td>\n",
       "      <td>563.5</td>\n",
       "      <td>318.5</td>\n",
       "      <td>122.50</td>\n",
       "      <td>7.0</td>\n",
       "      <td>2</td>\n",
       "      <td>0.0</td>\n",
       "      <td>0</td>\n",
       "      <td>20.84</td>\n",
       "      <td>28.28</td>\n",
       "    </tr>\n",
       "  </tbody>\n",
       "</table>\n",
       "</div>"
      ],
      "text/plain": [
       "     X1     X2     X3      X4   X5  X6   X7  X8     Y1     Y2\n",
       "0  0.98  514.5  294.0  110.25  7.0   2  0.0   0  15.55  21.33\n",
       "1  0.98  514.5  294.0  110.25  7.0   3  0.0   0  15.55  21.33\n",
       "2  0.98  514.5  294.0  110.25  7.0   4  0.0   0  15.55  21.33\n",
       "3  0.98  514.5  294.0  110.25  7.0   5  0.0   0  15.55  21.33\n",
       "4  0.90  563.5  318.5  122.50  7.0   2  0.0   0  20.84  28.28"
      ]
     },
     "execution_count": 19,
     "metadata": {},
     "output_type": "execute_result"
    }
   ],
   "source": [
    "df.head()"
   ]
  },
  {
   "cell_type": "code",
   "execution_count": 20,
   "id": "5cde6928",
   "metadata": {},
   "outputs": [
    {
     "data": {
      "text/html": [
       "<div>\n",
       "<style scoped>\n",
       "    .dataframe tbody tr th:only-of-type {\n",
       "        vertical-align: middle;\n",
       "    }\n",
       "\n",
       "    .dataframe tbody tr th {\n",
       "        vertical-align: top;\n",
       "    }\n",
       "\n",
       "    .dataframe thead th {\n",
       "        text-align: right;\n",
       "    }\n",
       "</style>\n",
       "<table border=\"1\" class=\"dataframe\">\n",
       "  <thead>\n",
       "    <tr style=\"text-align: right;\">\n",
       "      <th></th>\n",
       "      <th>X1</th>\n",
       "      <th>X2</th>\n",
       "      <th>X3</th>\n",
       "      <th>X4</th>\n",
       "      <th>X5</th>\n",
       "      <th>X6</th>\n",
       "      <th>X7</th>\n",
       "      <th>X8</th>\n",
       "      <th>Y1</th>\n",
       "      <th>Y2</th>\n",
       "    </tr>\n",
       "  </thead>\n",
       "  <tbody>\n",
       "    <tr>\n",
       "      <th>763</th>\n",
       "      <td>0.64</td>\n",
       "      <td>784.0</td>\n",
       "      <td>343.0</td>\n",
       "      <td>220.5</td>\n",
       "      <td>3.5</td>\n",
       "      <td>5</td>\n",
       "      <td>0.4</td>\n",
       "      <td>5</td>\n",
       "      <td>17.88</td>\n",
       "      <td>21.40</td>\n",
       "    </tr>\n",
       "    <tr>\n",
       "      <th>764</th>\n",
       "      <td>0.62</td>\n",
       "      <td>808.5</td>\n",
       "      <td>367.5</td>\n",
       "      <td>220.5</td>\n",
       "      <td>3.5</td>\n",
       "      <td>2</td>\n",
       "      <td>0.4</td>\n",
       "      <td>5</td>\n",
       "      <td>16.54</td>\n",
       "      <td>16.88</td>\n",
       "    </tr>\n",
       "    <tr>\n",
       "      <th>765</th>\n",
       "      <td>0.62</td>\n",
       "      <td>808.5</td>\n",
       "      <td>367.5</td>\n",
       "      <td>220.5</td>\n",
       "      <td>3.5</td>\n",
       "      <td>3</td>\n",
       "      <td>0.4</td>\n",
       "      <td>5</td>\n",
       "      <td>16.44</td>\n",
       "      <td>17.11</td>\n",
       "    </tr>\n",
       "    <tr>\n",
       "      <th>766</th>\n",
       "      <td>0.62</td>\n",
       "      <td>808.5</td>\n",
       "      <td>367.5</td>\n",
       "      <td>220.5</td>\n",
       "      <td>3.5</td>\n",
       "      <td>4</td>\n",
       "      <td>0.4</td>\n",
       "      <td>5</td>\n",
       "      <td>16.48</td>\n",
       "      <td>16.61</td>\n",
       "    </tr>\n",
       "    <tr>\n",
       "      <th>767</th>\n",
       "      <td>0.62</td>\n",
       "      <td>808.5</td>\n",
       "      <td>367.5</td>\n",
       "      <td>220.5</td>\n",
       "      <td>3.5</td>\n",
       "      <td>5</td>\n",
       "      <td>0.4</td>\n",
       "      <td>5</td>\n",
       "      <td>16.64</td>\n",
       "      <td>16.03</td>\n",
       "    </tr>\n",
       "  </tbody>\n",
       "</table>\n",
       "</div>"
      ],
      "text/plain": [
       "       X1     X2     X3     X4   X5  X6   X7  X8     Y1     Y2\n",
       "763  0.64  784.0  343.0  220.5  3.5   5  0.4   5  17.88  21.40\n",
       "764  0.62  808.5  367.5  220.5  3.5   2  0.4   5  16.54  16.88\n",
       "765  0.62  808.5  367.5  220.5  3.5   3  0.4   5  16.44  17.11\n",
       "766  0.62  808.5  367.5  220.5  3.5   4  0.4   5  16.48  16.61\n",
       "767  0.62  808.5  367.5  220.5  3.5   5  0.4   5  16.64  16.03"
      ]
     },
     "execution_count": 20,
     "metadata": {},
     "output_type": "execute_result"
    }
   ],
   "source": [
    "df.tail()"
   ]
  },
  {
   "cell_type": "code",
   "execution_count": 21,
   "id": "52045352",
   "metadata": {},
   "outputs": [
    {
     "name": "stdout",
     "output_type": "stream",
     "text": [
      "<class 'pandas.core.frame.DataFrame'>\n",
      "RangeIndex: 768 entries, 0 to 767\n",
      "Data columns (total 10 columns):\n",
      " #   Column  Non-Null Count  Dtype  \n",
      "---  ------  --------------  -----  \n",
      " 0   X1      768 non-null    float64\n",
      " 1   X2      768 non-null    float64\n",
      " 2   X3      768 non-null    float64\n",
      " 3   X4      768 non-null    float64\n",
      " 4   X5      768 non-null    float64\n",
      " 5   X6      768 non-null    int64  \n",
      " 6   X7      768 non-null    float64\n",
      " 7   X8      768 non-null    int64  \n",
      " 8   Y1      768 non-null    float64\n",
      " 9   Y2      768 non-null    float64\n",
      "dtypes: float64(8), int64(2)\n",
      "memory usage: 60.1 KB\n"
     ]
    }
   ],
   "source": [
    "df.info()"
   ]
  },
  {
   "cell_type": "code",
   "execution_count": 22,
   "id": "f07eea28",
   "metadata": {},
   "outputs": [
    {
     "data": {
      "text/plain": [
       "Index(['X1', 'X2', 'X3', 'X4', 'X5', 'X6', 'X7', 'X8', 'Y1', 'Y2'], dtype='object')"
      ]
     },
     "execution_count": 22,
     "metadata": {},
     "output_type": "execute_result"
    }
   ],
   "source": [
    "df.columns"
   ]
  },
  {
   "cell_type": "markdown",
   "id": "636f004d",
   "metadata": {},
   "source": [
    "#### The dataset contains eight attributes (or features, denoted by X1...X8) and two responses (or outcomes, denoted by y1 and y2). The aim is to use the eight features to predict each of the two responses.\n",
    "\n",
    "##### Specifically:\n",
    "- X1\tRelative Compactness\n",
    "- X2\tSurface Area\n",
    "- X3\tWall Area\n",
    "- X4\tRoof Area\n",
    "- X5\tOverall Height\n",
    "- X6\tOrientation\n",
    "- X7\tGlazing Area\n",
    "- X8\tGlazing Area Distribution\n",
    "- y1\tHeating Load\n",
    "- y2\tCooling Load"
   ]
  },
  {
   "cell_type": "code",
   "execution_count": 23,
   "id": "d833e037",
   "metadata": {},
   "outputs": [],
   "source": [
    "#Target and Feature Variables\n",
    "X = df[['X1', 'X2', 'X3', 'X4', 'X5', 'X6', 'X7', 'X8']]\n",
    "y = df[['Y1', 'Y2']]"
   ]
  },
  {
   "cell_type": "code",
   "execution_count": 24,
   "id": "bdb6ca97",
   "metadata": {},
   "outputs": [],
   "source": [
    "#Divide the dataset among training and testing data in 80:20\n",
    "X_train, X_test, y_train, y_test = train_test_split(X, y, test_size=0.2, random_state=42)"
   ]
  },
  {
   "cell_type": "markdown",
   "id": "9b3a0d29",
   "metadata": {},
   "source": [
    "# Linear Regression"
   ]
  },
  {
   "cell_type": "code",
   "execution_count": 25,
   "id": "86dde100",
   "metadata": {},
   "outputs": [],
   "source": [
    "#Create linear regression object\n",
    "regr1 = linear_model.LinearRegression()\n",
    "\n",
    "#Train the model using training sets\n",
    "regr1.fit(X_train, y_train)\n",
    "\n",
    "#Make predictions using testing set\n",
    "y_pred1 = regr1.predict(X_test)"
   ]
  },
  {
   "cell_type": "code",
   "execution_count": 26,
   "id": "1a84770f",
   "metadata": {},
   "outputs": [
    {
     "name": "stdout",
     "output_type": "stream",
     "text": [
      "Coefficients: \n",
      " [[-6.21292978e+01 -2.90673928e+11  2.90673928e+11  5.81347855e+11\n",
      "   4.12484264e+00 -3.24974433e-02  2.01413017e+01  2.10892732e-01]\n",
      " [-7.10060382e+01  8.91405822e+10 -8.91405822e+10 -1.78281164e+11\n",
      "   4.04575753e+00  5.52672623e-02  1.47881657e+01  3.37913440e-02]]\n",
      "Intercept:\n",
      " [ 80.16474422 100.46491657]\n",
      "Mean Squared Error: 9.50\n",
      "Coefficient of Determination: 0.90\n"
     ]
    }
   ],
   "source": [
    "#Coefficients\n",
    "print(\"Coefficients: \\n\",regr1.coef_)\n",
    "#Intercept\n",
    "print(\"Intercept:\\n\", regr1.intercept_)\n",
    "#Mean Squared Error\n",
    "print(\"Mean Squared Error: %.2f\" % mean_squared_error(y_test, y_pred1))\n",
    "#Coefficient of determination: 1 is perfect prediction\n",
    "print(\"Coefficient of Determination: %.2f\" % r2_score(y_test, y_pred1))"
   ]
  },
  {
   "cell_type": "markdown",
   "id": "f7ca2ae6",
   "metadata": {},
   "source": [
    "# Decision Tree "
   ]
  },
  {
   "cell_type": "code",
   "execution_count": 29,
   "id": "d0bd71bc",
   "metadata": {},
   "outputs": [],
   "source": [
    "#Create decision tree object\n",
    "regr2 = DecisionTreeRegressor(max_depth=5)\n",
    "\n",
    "#Train the model using training sets\n",
    "regr2.fit(X_train, y_train)\n",
    "\n",
    "#Make predictions using testing set\n",
    "y_pred2 = regr2.predict(X_test)"
   ]
  },
  {
   "cell_type": "code",
   "execution_count": 30,
   "id": "a68aca9b",
   "metadata": {},
   "outputs": [
    {
     "name": "stdout",
     "output_type": "stream",
     "text": [
      "Mean Squared Error: 2.44\n",
      "Coefficient of Determination: 0.97\n"
     ]
    }
   ],
   "source": [
    "#Mean Squared Error\n",
    "print(\"Mean Squared Error: %.2f\" % mean_squared_error(y_test, y_pred2))\n",
    "#Coeff of Determination\n",
    "print(\"Coefficient of Determination: %.2f\" % r2_score(y_test, y_pred2))"
   ]
  },
  {
   "cell_type": "markdown",
   "id": "4e8af8b3",
   "metadata": {},
   "source": [
    "# Random Forest "
   ]
  },
  {
   "cell_type": "code",
   "execution_count": 27,
   "id": "b173685c",
   "metadata": {},
   "outputs": [],
   "source": [
    "#Create decision tree object\n",
    "regr3 = RandomForestRegressor(max_depth=2, random_state=0)\n",
    "\n",
    "#Train the model using training sets\n",
    "regr3.fit(X_train, y_train)\n",
    "\n",
    "#Make predictions using testing set\n",
    "y_pred3 = regr3.predict(X_test)"
   ]
  },
  {
   "cell_type": "code",
   "execution_count": 28,
   "id": "41a29fdd",
   "metadata": {},
   "outputs": [
    {
     "name": "stdout",
     "output_type": "stream",
     "text": [
      "Mean Squared Error: 10.96\n",
      "Coefficient of Determination: 0.89\n"
     ]
    }
   ],
   "source": [
    "#Mean Squared Error\n",
    "print(\"Mean Squared Error: %.2f\" % mean_squared_error(y_test, y_pred3))\n",
    "#Coeff of Determination\n",
    "print(\"Coefficient of Determination: %.2f\" % r2_score(y_test, y_pred3))"
   ]
  },
  {
   "cell_type": "markdown",
   "id": "d59d9873",
   "metadata": {},
   "source": [
    "# Support Vector Machine "
   ]
  },
  {
   "cell_type": "code",
   "execution_count": 34,
   "id": "e86d1584",
   "metadata": {
    "scrolled": true
   },
   "outputs": [],
   "source": [
    "from sklearn.multioutput import MultiOutputRegressor\n",
    "#Create decision tree object\n",
    "multi = SVR(C=5.0, epsilon=0.8)\n",
    "regr4 = MultiOutputRegressor(multi)\n",
    "\n",
    "#Train the model using training sets\n",
    "regr4.fit(X_train, y_train)\n",
    "\n",
    "#Make predictions using testing set\n",
    "y_pred4 = regr4.predict(X_test)"
   ]
  },
  {
   "cell_type": "code",
   "execution_count": 35,
   "id": "53c0244a",
   "metadata": {},
   "outputs": [
    {
     "name": "stdout",
     "output_type": "stream",
     "text": [
      "Mean Squared Error: 20.70\n",
      "Coefficient of Determination: 0.79\n"
     ]
    }
   ],
   "source": [
    "#Mean Squared Error\n",
    "print(\"Mean Squared Error: %.2f\" % mean_squared_error(y_test, y_pred4))\n",
    "#Coeff of Determination\n",
    "print(\"Coefficient of Determination: %.2f\" % r2_score(y_test, y_pred4))"
   ]
  },
  {
   "cell_type": "markdown",
   "id": "082c4121",
   "metadata": {},
   "source": [
    "# Preperation for Comparison"
   ]
  },
  {
   "cell_type": "code",
   "execution_count": 36,
   "id": "6fc61100",
   "metadata": {},
   "outputs": [],
   "source": [
    "# Mean Squared Errors\n",
    "mse_lr = mean_squared_error(y_test, y_pred1)\n",
    "mse_dt = mean_squared_error(y_test, y_pred2)\n",
    "mse_rf = mean_squared_error(y_test, y_pred3)\n",
    "mse_svm = mean_squared_error(y_test, y_pred4)"
   ]
  },
  {
   "cell_type": "code",
   "execution_count": 37,
   "id": "40dd7848",
   "metadata": {},
   "outputs": [],
   "source": [
    "#R2_Scores\n",
    "r2_lr = r2_score(y_test, y_pred1)\n",
    "r2_dt = r2_score(y_test, y_pred2)\n",
    "r2_rf = r2_score(y_test, y_pred3)\n",
    "r2_svm = r2_score(y_test, y_pred4)"
   ]
  },
  {
   "cell_type": "code",
   "execution_count": 38,
   "id": "6d0eaafd",
   "metadata": {},
   "outputs": [],
   "source": [
    "#Matplotlib in rescue for visual comparison\n",
    "import matplotlib.pyplot as plt"
   ]
  },
  {
   "cell_type": "code",
   "execution_count": 39,
   "id": "bfc41270",
   "metadata": {},
   "outputs": [],
   "source": [
    "labels = ['Linear Regression', 'Decision Tree', 'Random Forest', 'Support Vector Machines']\n",
    "mse = [mse_lr, mse_dt, mse_rf, mse_svm]\n",
    "cod = [r2_lr, r2_dt, r2_rf, r2_svm]"
   ]
  },
  {
   "cell_type": "markdown",
   "id": "22ef3fbb",
   "metadata": {},
   "source": [
    "# Plot for Comparison wrt Mean Squared Error "
   ]
  },
  {
   "cell_type": "code",
   "execution_count": 41,
   "id": "e1363d67",
   "metadata": {},
   "outputs": [
    {
     "data": {
      "text/plain": [
       "Text(0, 0.5, 'Error')"
      ]
     },
     "execution_count": 41,
     "metadata": {},
     "output_type": "execute_result"
    },
    {
     "data": {
      "image/png": "[encoded data removed]",
      "text/plain": [
       "<Figure size 800x500 with 1 Axes>"
      ]
     },
     "metadata": {},
     "output_type": "display_data"
    }
   ],
   "source": [
    "plt.figure(figsize=(8,5))\n",
    "plt.bar(labels, mse, color=['#FF0000', '#8B0000', '#DC143C', '#FF4500'])\n",
    "plt.title('Mean Squared Error')\n",
    "plt.ylabel('Error')"
   ]
  },
  {
   "cell_type": "code",
   "execution_count": 42,
   "id": "ebf15aeb",
   "metadata": {},
   "outputs": [
    {
     "name": "stdout",
     "output_type": "stream",
     "text": [
      "Best Model: Decision Tree\n"
     ]
    }
   ],
   "source": [
    "# Choose the model with the lowest MSE\n",
    "best_model = min([(mse_lr, 'Linear Regression'), (mse_dt, 'Decision Tree'), (mse_rf, 'Random Forest'), (mse_svm, 'SVM')])\n",
    "\n",
    "print(\"Best Model:\", best_model[1])"
   ]
  },
  {
   "cell_type": "markdown",
   "id": "e65f1235",
   "metadata": {},
   "source": [
    "Among the all the Machine Learing Algorithms we used for the comparison, in case of Mean Squared Error, Decision Tree stood out to be the go to algorithm because we got the lowest value from this model\n",
    "\n",
    "##### Increasing order of values\n",
    "- Decision Tree - 2.44\n",
    "- Linear Regression - 9.50\n",
    "- Random Forest - 10.96\n",
    "- Support Vector Machine - 20.70"
   ]
  },
  {
   "cell_type": "markdown",
   "id": "e240a402",
   "metadata": {},
   "source": [
    "# Plot for Comparison wrt Coefficient of Determination  "
   ]
  },
  {
   "cell_type": "code",
   "execution_count": 43,
   "id": "9d3235c3",
   "metadata": {},
   "outputs": [
    {
     "data": {
      "text/plain": [
       "Text(0, 0.5, 'Error')"
      ]
     },
     "execution_count": 43,
     "metadata": {},
     "output_type": "execute_result"
    },
    {
     "data": {
      "image/png": "[encoded data removed]",
      "text/plain": [
       "<Figure size 800x500 with 1 Axes>"
      ]
     },
     "metadata": {},
     "output_type": "display_data"
    }
   ],
   "source": [
    "plt.figure(figsize=(8,5))\n",
    "plt.bar(labels, cod, color=['#1E90FF', '#00BFFF', '#87CEFA', '#4682B4'])\n",
    "plt.title('Coefficient of Determination')\n",
    "plt.ylabel('Error')"
   ]
  },
  {
   "cell_type": "code",
   "execution_count": 44,
   "id": "8275bbe5",
   "metadata": {},
   "outputs": [
    {
     "name": "stdout",
     "output_type": "stream",
     "text": [
      "Best Model: Decision Tree\n"
     ]
    }
   ],
   "source": [
    "# Choose the model with the highest R2_Score\n",
    "best_model = max([(r2_lr, 'Linear Regression'), (r2_dt, 'Decision Tree'), (r2_rf, 'Random Forest'), (r2_svm, 'SVM')])\n",
    "\n",
    "print(\"Best Model:\", best_model[1])"
   ]
  },
  {
   "cell_type": "markdown",
   "id": "ff0f25a3",
   "metadata": {},
   "source": [
    "Among the all the Machine Learing Algorithms we used for the comparison, in case of Coefficient of Determination, Decision Tree stood out to be the go to algorithm because we got the highest value from this model\n",
    "\n",
    "##### Decreasing order of values\n",
    "- Decision Tree - 0.97\n",
    "- Linear Regression - 0.90\n",
    "- Random Forest - 0.89\n",
    "- Support Vector Machine - 0.79"
   ]
  },
  {
   "cell_type": "markdown",
   "id": "6daf5faf",
   "metadata": {},
   "source": [
    "# Moment of Truth\n",
    "\n",
    "Decision Tree turns out to be the best algorithm to go with in this case of comparison."
   ]
  },
  {
   "cell_type": "code",
   "execution_count": null,
   "id": "b836b06e",
   "metadata": {},
   "outputs": [],
   "source": []
  }
 ],
 "metadata": {
  "kernelspec": {
   "display_name": "Python 3 (ipykernel)",
   "language": "python",
   "name": "python3"
  },
  "language_info": {
   "codemirror_mode": {
    "name": "ipython",
    "version": 3
   },
   "file_extension": ".py",
   "mimetype": "text/x-python",
   "name": "python",
   "nbconvert_exporter": "python",
   "pygments_lexer": "ipython3",
   "version": "3.11.3"
  }
 },
 "nbformat": 4,
 "nbformat_minor": 5
}
